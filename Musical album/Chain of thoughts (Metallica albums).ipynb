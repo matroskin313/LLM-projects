{
 "cells": [
  {
   "cell_type": "markdown",
   "id": "ea22e4ac-2ef8-40ea-86f9-4dca5cf87fac",
   "metadata": {},
   "source": [
    "# Task Description: Filtering Metallica Albums by Year\r\n",
    "\r\n",
    "## Overview\r\n",
    "\r\n",
    "The goal of this project is to use prompt engineering and chain of thought (CoT) techniques to instruct a Language Model (LLM) to filter and display all Metallica albums released after a specified year. The data for this task will be retrieved from the Spotify.t:\r\n",
    "\r\n"
   ]
  },
  {
   "cell_type": "code",
   "execution_count": 1,
   "id": "dfbb2e50-9e74-45ac-8b52-354e45397ac7",
   "metadata": {},
   "outputs": [],
   "source": [
    "from langchain_community.document_loaders import DirectoryLoader\n",
    "from langchain.text_splitter import RecursiveCharacterTextSplitter\n",
    "from langchain_community.vectorstores import Chroma\n",
    "from langchain.prompts import ChatPromptTemplate\n",
    "from langchain_openai import OpenAIEmbeddings\n",
    "from langchain_openai import ChatOpenAI\n",
    "from langchain.schema import Document\n",
    "from dotenv import load_dotenv\n",
    "import requests\n",
    "import openai \n",
    "import shutil\n",
    "import os\n",
    "\n",
    "os.environ['OPENAI_API_KEY'] = 'key'\n",
    "CHROMA_PATH = \"chroma_music\""
   ]
  },
  {
   "cell_type": "markdown",
   "id": "39111521-e914-49a8-a7f4-2575abd8e7a3",
   "metadata": {},
   "source": [
    "Fetch data from Spotify API"
   ]
  },
  {
   "cell_type": "code",
   "execution_count": 2,
   "id": "066ed8bd-6aa3-426d-ba5c-316dcbefc919",
   "metadata": {},
   "outputs": [
    {
     "name": "stdout",
     "output_type": "stream",
     "text": [
      "<class 'list'>\n",
      "50\n"
     ]
    }
   ],
   "source": [
    "url = \"https://spotify23.p.rapidapi.com/search/\"\n",
    "\n",
    "querystring = {\"q\":\"metallica\", \"type\": \"album\", \"limit\": \"50\"}\n",
    "\n",
    "headers = {\n",
    "\t\"x-rapidapi-key\": \"31889f1ddfmsh96d42e48a3f8968p1484b5jsn5f8010587ad9\",\n",
    "\t\"x-rapidapi-host\": \"spotify23.p.rapidapi.com\"\n",
    "}\n",
    "\n",
    "response = requests.get(url, headers=headers, params=querystring)\n",
    "\n",
    "# Extract albums from the JSON response\n",
    "results = response.json().get('albums', {}).get('items', [])\n",
    "print(type(results))\n",
    "print(len(results))"
   ]
  },
  {
   "cell_type": "markdown",
   "id": "ce1d4a4e-c214-4e08-9f46-8ed6f881611b",
   "metadata": {},
   "source": [
    "Get needed data about album title and year"
   ]
  },
  {
   "cell_type": "code",
   "execution_count": 3,
   "id": "cb6b1ebb-d7e9-4bc6-8401-a504d6bd547c",
   "metadata": {},
   "outputs": [],
   "source": [
    "all_albums = []\n",
    "titles = set()  # unique album titles\n",
    "\n",
    "for result in results:\n",
    "    release_year = result['data'].get('date', {}).get('year', '')\n",
    "    album_title = result['data'].get('name', '')\n",
    "    \n",
    "    if release_year and album_title:\n",
    "        if album_title not in titles:\n",
    "            album = {\n",
    "                'artist': 'Metallica',\n",
    "                'album': album_title,\n",
    "                'year': release_year\n",
    "            }\n",
    "            all_albums.append(album)\n",
    "            titles.add(album_title)"
   ]
  },
  {
   "cell_type": "code",
   "execution_count": 4,
   "id": "e034cdc6-01e6-4357-b84d-f9787a887e56",
   "metadata": {},
   "outputs": [
    {
     "name": "stdout",
     "output_type": "stream",
     "text": [
      "Split 37 documents into 37 chunks.\n"
     ]
    }
   ],
   "source": [
    "# Create documents from the album data\n",
    "documents = [Document(page_content=str(album), metadata=album) for album in all_albums]\n",
    "\n",
    "# Split the documents\n",
    "text_splitter = RecursiveCharacterTextSplitter(\n",
    "    chunk_size=200,\n",
    "    chunk_overlap=100,\n",
    "    length_function=len,\n",
    "    add_start_index=True,\n",
    ")\n",
    "chunks = text_splitter.split_documents(documents)\n",
    "\n",
    "print(f'Split {len(all_albums)} documents into {len(chunks)} chunks.')"
   ]
  },
  {
   "cell_type": "code",
   "execution_count": 5,
   "id": "c602f372-ed10-4c66-8947-7b30d4d6fcbb",
   "metadata": {},
   "outputs": [
    {
     "name": "stdout",
     "output_type": "stream",
     "text": [
      "{'artist': 'Metallica', 'album': 'The Metallica Blacklist', 'year': 2021}\n",
      "{'artist': 'Metallica', 'album': 'The Metallica Blacklist', 'year': 2021, 'start_index': 0}\n"
     ]
    }
   ],
   "source": [
    "document = chunks[15]\n",
    "print(document.page_content)\n",
    "print(document.metadata)"
   ]
  },
  {
   "cell_type": "code",
   "execution_count": 6,
   "id": "827a698e-c8fa-4edc-a852-32f206af9dfc",
   "metadata": {},
   "outputs": [
    {
     "name": "stdout",
     "output_type": "stream",
     "text": [
      "Saved 37 chunks to chroma_music.\n"
     ]
    }
   ],
   "source": [
    "# Create a new DB from the documents.\n",
    "embedding_function = OpenAIEmbeddings()\n",
    "db = Chroma.from_documents(\n",
    "    chunks, embedding_function, persist_directory=CHROMA_PATH\n",
    ")\n",
    "\n",
    "print(f\"Saved {len(chunks)} chunks to {CHROMA_PATH}.\")   "
   ]
  },
  {
   "cell_type": "code",
   "execution_count": 7,
   "id": "5437dacc-9017-4161-b1ac-1724ec0df57b",
   "metadata": {},
   "outputs": [],
   "source": [
    "# Prepare the DB.\n",
    "db = Chroma(persist_directory=CHROMA_PATH, embedding_function=embedding_function)"
   ]
  },
  {
   "cell_type": "code",
   "execution_count": 8,
   "id": "0477fd4a-5f9f-487d-ab5e-79f5d6bb81f6",
   "metadata": {},
   "outputs": [],
   "source": [
    "year_filter = 2020\n",
    "query_text = f'List Metallica albums released after {year_filter}, focusing on unique and different albums.'"
   ]
  },
  {
   "cell_type": "code",
   "execution_count": 9,
   "id": "140fbe2a-e51c-4fd3-bf27-43ddd062ff1b",
   "metadata": {},
   "outputs": [],
   "source": [
    "# Perform the query with a higher number of results\n",
    "results = db.similarity_search_with_relevance_scores(query_text, k=20)  # Increased k to fetch more results"
   ]
  },
  {
   "cell_type": "code",
   "execution_count": 10,
   "id": "6a79dc24-b153-41bf-ae65-ccfe37ee8844",
   "metadata": {},
   "outputs": [],
   "source": [
    "if len(results) == 0 or results[0][1] < 0.7:\n",
    "    print(f'Unable to find matching results.') "
   ]
  },
  {
   "cell_type": "code",
   "execution_count": 11,
   "id": "6dab0911-03b2-4bca-887e-b6ed47baacf7",
   "metadata": {},
   "outputs": [
    {
     "name": "stdout",
     "output_type": "stream",
     "text": [
      "\n",
      "Answer the question based only on the following context:\n",
      "\n",
      "{context}\n",
      "\n",
      "---\n",
      "\n",
      "\n",
      "Answer the question based on the above context: {question}.\n",
      "\n",
      "\n",
      "First, we need to find all \"albums\" where the integer value of \"year\" is greater than year_filter. For instance, if year_filter = 1999, we need to choose all albums where the year is greater than year_filter. For example, for \"album\" == \"Death Magnetic\": \"year\" = 2008 and 2008 > year_filter. That is why it is a suitable album for us and we need to print its year and title. Next, for \"album\" == \"The Metallica Blacklist\": \"year\" = 2021 and 2021 > year_filter. It is also suitable information. We need to find all albums where \"year\" > year_filter and print those.\n",
      "For instance, for year_filter = 1999, we have such result: \"It was found 15 albums: 2023: 72 Seasons, 2008: Death Magnetic, 2021: The Metallica Blacklist, 2013: Metallica Through The Never (Music from the Motion Picture), 2016: Hardwired…To Self-Destruct, 2023: metallica, 2023: Metallica, 2003: St. Anger, 2016: Hardwired…To Self-Destruct (Deluxe), 2020: S&M2, 2022: Lux Æterna, 2024: METALLICA, 2000: I Disappear, 2022: Metallica (Remix), 2020: Metallica Remixes.\"\n"
     ]
    }
   ],
   "source": [
    "PROMPT_TEMPLATE = \"\"\"\n",
    "Answer the question based only on the following context:\n",
    "\n",
    "{context}\n",
    "\n",
    "---\n",
    "\n",
    "\n",
    "Answer the question based on the above context: {question}.\n",
    "\n",
    "\"\"\"\n",
    "\n",
    "# Chain of Thought (CoT) steps\n",
    "cot_steps = [\n",
    "    'First, we need to find all \"albums\" where the integer value of \"year\" is greater than year_filter. For instance, if year_filter = 1999, we need to choose all albums where the year is greater than year_filter. For example, for \"album\" == \"Death Magnetic\": \"year\" = 2008 and 2008 > year_filter. That is why it is a suitable album for us and we need to print its year and title. Next, for \"album\" == \"The Metallica Blacklist\": \"year\" = 2021 and 2021 > year_filter. It is also suitable information. We need to find all albums where \"year\" > year_filter and print those.',\n",
    "    'For instance, for year_filter = 1999, we have such result: \"It was found 15 albums: 2023: 72 Seasons, 2008: Death Magnetic, 2021: The Metallica Blacklist, 2013: Metallica Through The Never (Music from the Motion Picture), 2016: Hardwired…To Self-Destruct, 2023: metallica, 2023: Metallica, 2003: St. Anger, 2016: Hardwired…To Self-Destruct (Deluxe), 2020: S&M2, 2022: Lux Æterna, 2024: METALLICA, 2000: I Disappear, 2022: Metallica (Remix), 2020: Metallica Remixes.\"'   \n",
    "]\n",
    "\n",
    "\n",
    "# Combine prompt and CoT steps\n",
    "prompt_with_cot = PROMPT_TEMPLATE + \"\\n\" + \"\\n\".join(cot_steps)\n",
    "\n",
    "print(prompt_with_cot)"
   ]
  },
  {
   "cell_type": "code",
   "execution_count": 12,
   "id": "eb61d774-c936-4df6-b309-356a4dbdd112",
   "metadata": {
    "scrolled": true
   },
   "outputs": [
    {
     "name": "stdout",
     "output_type": "stream",
     "text": [
      "Response: content='Based on the context provided, the Metallica albums released after 2020 are:\\n\\n1. 2023: 72 Seasons\\n2. 2021: The Metallica Blacklist\\n3. 2023: metallica\\n4. 2023: Metallica\\n5. 2022: Lux Æterna\\n6. 2024: METALLICA\\n7. 2022: Metallica (Remix)' response_metadata={'token_usage': {'completion_tokens': 91, 'prompt_tokens': 867, 'total_tokens': 958}, 'model_name': 'gpt-3.5-turbo', 'system_fingerprint': None, 'finish_reason': 'stop', 'logprobs': None} id='run-7d655333-7ba7-454c-8aba-efbfee176a28-0' usage_metadata={'input_tokens': 867, 'output_tokens': 91, 'total_tokens': 958}\n"
     ]
    }
   ],
   "source": [
    "context_text = \"\\n\\n---\\n\\n\".join([doc.page_content for doc, _score in results])\n",
    "prompt_template = ChatPromptTemplate.from_template(prompt_with_cot)\n",
    "\n",
    "prompt = prompt_template.format(context=context_text, question=query_text)\n",
    "\n",
    "model = ChatOpenAI()\n",
    "response_text = model.invoke(prompt)\n",
    "\n",
    "formatted_response = f\"Response: {response_text}\"\n",
    "print(formatted_response)\n"
   ]
  },
  {
   "cell_type": "markdown",
   "id": "46320786-11d9-45c4-a63a-b7404a4ad734",
   "metadata": {},
   "source": [
    "Checking by filtering all albums after year_filter"
   ]
  },
  {
   "cell_type": "code",
   "execution_count": 13,
   "id": "3f8aeb04-0400-4b34-b879-542cc762bb5d",
   "metadata": {},
   "outputs": [],
   "source": [
    "# Function to filter albums by year\n",
    "def filter_albums_by_year(all_albums, year_filter):\n",
    "    filtered_documents = [album for album in all_albums if int(album['year']) > year_filter]\n",
    "    \n",
    "    if not filtered_documents:\n",
    "        print(\"No albums found after the specified year.\")\n",
    "    else:\n",
    "        filtered_documents_total = len(filtered_documents)\n",
    "        print(f'It was found {filtered_documents_total} albums:')\n",
    "        for album in filtered_documents:\n",
    "            print(f\" - {album['year']}: {album['album']}.\")\n",
    "            "
   ]
  },
  {
   "cell_type": "code",
   "execution_count": 14,
   "id": "3b192a86-e224-4938-8460-c853732c5464",
   "metadata": {},
   "outputs": [
    {
     "name": "stdout",
     "output_type": "stream",
     "text": [
      "It was found 7 albums:\n",
      " - 2023: 72 Seasons.\n",
      " - 2021: The Metallica Blacklist.\n",
      " - 2023: metallica.\n",
      " - 2023: Metallica.\n",
      " - 2022: Lux Æterna.\n",
      " - 2024: METALLICA.\n",
      " - 2022: Metallica (Remix).\n"
     ]
    }
   ],
   "source": [
    "year_filter = 2020        \n",
    "filter_albums_by_year(all_albums, year_filter)"
   ]
  },
  {
   "cell_type": "code",
   "execution_count": null,
   "id": "0a554289-0ef9-4fed-b062-7ce17e8bbbbe",
   "metadata": {},
   "outputs": [],
   "source": []
  }
 ],
 "metadata": {
  "kernelspec": {
   "display_name": "Python 3 (ipykernel)",
   "language": "python",
   "name": "python3"
  },
  "language_info": {
   "codemirror_mode": {
    "name": "ipython",
    "version": 3
   },
   "file_extension": ".py",
   "mimetype": "text/x-python",
   "name": "python",
   "nbconvert_exporter": "python",
   "pygments_lexer": "ipython3",
   "version": "3.11.9"
  }
 },
 "nbformat": 4,
 "nbformat_minor": 5
}
