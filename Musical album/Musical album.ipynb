{
 "cells": [
  {
   "cell_type": "code",
   "execution_count": 1,
   "id": "dfbb2e50-9e74-45ac-8b52-354e45397ac7",
   "metadata": {},
   "outputs": [],
   "source": [
    "from langchain_community.document_loaders import DirectoryLoader\n",
    "from langchain.text_splitter import RecursiveCharacterTextSplitter\n",
    "from langchain_community.vectorstores import Chroma\n",
    "from langchain.prompts import ChatPromptTemplate\n",
    "from langchain_openai import OpenAIEmbeddings\n",
    "from langchain_openai import ChatOpenAI\n",
    "from langchain.schema import Document\n",
    "from dotenv import load_dotenv\n",
    "import requests\n",
    "import openai \n",
    "import shutil\n",
    "import os\n",
    "\n",
    "os.environ['OPENAI_API_KEY'] = 'key'"
   ]
  },
  {
   "cell_type": "code",
   "execution_count": 2,
   "id": "066ed8bd-6aa3-426d-ba5c-316dcbefc919",
   "metadata": {},
   "outputs": [
    {
     "name": "stdout",
     "output_type": "stream",
     "text": [
      "[{'data': {'uri': 'spotify:album:1nTvIQEXvygqSIqc2vuwAz', 'name': 'Ride The Lightning (Remastered)', 'artists': {'items': [{'uri': 'spotify:artist:2ye2Wgw4gimLv2eAKyk1NB', 'profile': {'name': 'Metallica'}}]}, 'coverArt': {'sources': [{'url': 'https://i.scdn.co/image/ab67616d00001e02b09e5084136821bf64d327f4', 'width': 300, 'height': 300}, {'url': 'https://i.scdn.co/image/ab67616d00004851b09e5084136821bf64d327f4', 'width': 64, 'height': 64}, {'url': 'https://i.scdn.co/image/ab67616d0000b273b09e5084136821bf64d327f4', 'width': 640, 'height': 640}]}, 'date': {'year': 1984}}}, {'data': {'uri': 'spotify:album:55fq75UfkYbGMq4CncCtOH', 'name': 'Metallica (Remastered)', 'artists': {'items': [{'uri': 'spotify:artist:2ye2Wgw4gimLv2eAKyk1NB', 'profile': {'name': 'Metallica'}}]}, 'coverArt': {'sources': [{'url': 'https://i.scdn.co/image/ab67616d00001e021f9edf15e43f4c2f4938b869', 'width': 300, 'height': 300}, {'url': 'https://i.scdn.co/image/ab67616d000048511f9edf15e43f4c2f4938b869', 'width': 64, 'height': 64}, {'url': 'https://i.scdn.co/image/ab67616d0000b2731f9edf15e43f4c2f4938b869', 'width': 640, 'height': 640}]}, 'date': {'year': 1991}}}, {'data': {'uri': 'spotify:album:4Cn4T0onWhfJZwWVzU5a2t', 'name': '...And Justice for All (Remastered)', 'artists': {'items': [{'uri': 'spotify:artist:2ye2Wgw4gimLv2eAKyk1NB', 'profile': {'name': 'Metallica'}}]}, 'coverArt': {'sources': [{'url': 'https://i.scdn.co/image/ab67616d00001e028161357a12a172721e772e0d', 'width': 300, 'height': 300}, {'url': 'https://i.scdn.co/image/ab67616d000048518161357a12a172721e772e0d', 'width': 64, 'height': 64}, {'url': 'https://i.scdn.co/image/ab67616d0000b2738161357a12a172721e772e0d', 'width': 640, 'height': 640}]}, 'date': {'year': 1988}}}, {'data': {'uri': 'spotify:album:2omIeSJEGQeKHPOpiXgfkr', 'name': 'Ride The Lightning (Deluxe Remaster)', 'artists': {'items': [{'uri': 'spotify:artist:2ye2Wgw4gimLv2eAKyk1NB', 'profile': {'name': 'Metallica'}}]}, 'coverArt': {'sources': [{'url': 'https://i.scdn.co/image/ab67616d00001e02533fd0b248052d04e6b732c0', 'width': 300, 'height': 300}, {'url': 'https://i.scdn.co/image/ab67616d00004851533fd0b248052d04e6b732c0', 'width': 64, 'height': 64}, {'url': 'https://i.scdn.co/image/ab67616d0000b273533fd0b248052d04e6b732c0', 'width': 640, 'height': 640}]}, 'date': {'year': 1984}}}, {'data': {'uri': 'spotify:album:12nEtB2TU44qNHt6IsyIrZ', 'name': 'Metallica (Remastered Deluxe Box Set)', 'artists': {'items': [{'uri': 'spotify:artist:2ye2Wgw4gimLv2eAKyk1NB', 'profile': {'name': 'Metallica'}}]}, 'coverArt': {'sources': [{'url': 'https://i.scdn.co/image/ab67616d00001e02167cb6a039a78b7804f33426', 'width': 300, 'height': 300}, {'url': 'https://i.scdn.co/image/ab67616d00004851167cb6a039a78b7804f33426', 'width': 64, 'height': 64}, {'url': 'https://i.scdn.co/image/ab67616d0000b273167cb6a039a78b7804f33426', 'width': 640, 'height': 640}]}, 'date': {'year': 1991}}}, {'data': {'uri': 'spotify:album:5gzLOflH95LkKYE6XSXE9k', 'name': 'Master of Puppets (Remastered)', 'artists': {'items': [{'uri': 'spotify:artist:2ye2Wgw4gimLv2eAKyk1NB', 'profile': {'name': 'Metallica'}}]}, 'coverArt': {'sources': [{'url': 'https://i.scdn.co/image/ab67616d00001e022127e0afac383fb73d533a7d', 'width': 300, 'height': 300}, {'url': 'https://i.scdn.co/image/ab67616d000048512127e0afac383fb73d533a7d', 'width': 64, 'height': 64}, {'url': 'https://i.scdn.co/image/ab67616d0000b2732127e0afac383fb73d533a7d', 'width': 640, 'height': 640}]}, 'date': {'year': 1986}}}, {'data': {'uri': 'spotify:album:7CGhx630DIjdJqaBDVKc5j', 'name': 'Master of Puppets (Remastered Deluxe Box Set)', 'artists': {'items': [{'uri': 'spotify:artist:2ye2Wgw4gimLv2eAKyk1NB', 'profile': {'name': 'Metallica'}}]}, 'coverArt': {'sources': [{'url': 'https://i.scdn.co/image/ab67616d00001e02cad4832cb7b5844343278daa', 'width': 300, 'height': 300}, {'url': 'https://i.scdn.co/image/ab67616d00004851cad4832cb7b5844343278daa', 'width': 64, 'height': 64}, {'url': 'https://i.scdn.co/image/ab67616d0000b273cad4832cb7b5844343278daa', 'width': 640, 'height': 640}]}, 'date': {'year': 1986}}}, {'data': {'uri': 'spotify:album:2XbWaerVk9fjhEiGSrd6TF', 'name': '...And Justice for All (Remastered Deluxe Box Set)', 'artists': {'items': [{'uri': 'spotify:artist:2ye2Wgw4gimLv2eAKyk1NB', 'profile': {'name': 'Metallica'}}]}, 'coverArt': {'sources': [{'url': 'https://i.scdn.co/image/ab67616d00001e02be54746b374358970b5e617a', 'width': 300, 'height': 300}, {'url': 'https://i.scdn.co/image/ab67616d00004851be54746b374358970b5e617a', 'width': 64, 'height': 64}, {'url': 'https://i.scdn.co/image/ab67616d0000b273be54746b374358970b5e617a', 'width': 640, 'height': 640}]}, 'date': {'year': 1988}}}, {'data': {'uri': 'spotify:album:0vNBQof86Lv5gLuf26ML7o', 'name': \"Kill 'Em All (Remastered)\", 'artists': {'items': [{'uri': 'spotify:artist:2ye2Wgw4gimLv2eAKyk1NB', 'profile': {'name': 'Metallica'}}]}, 'coverArt': {'sources': [{'url': 'https://i.scdn.co/image/ab67616d00001e0220292e6cce666a69ba5a86fb', 'width': 300, 'height': 300}, {'url': 'https://i.scdn.co/image/ab67616d0000485120292e6cce666a69ba5a86fb', 'width': 64, 'height': 64}, {'url': 'https://i.scdn.co/image/ab67616d0000b27320292e6cce666a69ba5a86fb', 'width': 640, 'height': 640}]}, 'date': {'year': 1983}}}, {'data': {'uri': 'spotify:album:7KDqRmr937ylvGilPGWxfD', 'name': 'Reload', 'artists': {'items': [{'uri': 'spotify:artist:2ye2Wgw4gimLv2eAKyk1NB', 'profile': {'name': 'Metallica'}}]}, 'coverArt': {'sources': [{'url': 'https://i.scdn.co/image/ab67616d00001e02a49eff6d64cafc2551553380', 'width': 300, 'height': 300}, {'url': 'https://i.scdn.co/image/ab67616d00004851a49eff6d64cafc2551553380', 'width': 64, 'height': 64}, {'url': 'https://i.scdn.co/image/ab67616d0000b273a49eff6d64cafc2551553380', 'width': 640, 'height': 640}]}, 'date': {'year': 1997}}}, {'data': {'uri': 'spotify:album:5iBW3WJk0JpwNaxsjQxlAI', 'name': 'Plays Metallica, Vol. 2', 'artists': {'items': [{'uri': 'spotify:artist:4Lm0pUvmisUHMdoky5ch2I', 'profile': {'name': 'Apocalyptica'}}]}, 'coverArt': {'sources': [{'url': 'https://i.scdn.co/image/ab67616d00001e0263457fce29088132d1ec06d9', 'width': 300, 'height': 300}, {'url': 'https://i.scdn.co/image/ab67616d0000485163457fce29088132d1ec06d9', 'width': 64, 'height': 64}, {'url': 'https://i.scdn.co/image/ab67616d0000b27363457fce29088132d1ec06d9', 'width': 640, 'height': 640}]}, 'date': {'year': 2024}}}, {'data': {'uri': 'spotify:album:5rI3pfrpvmdYtGAsBwaGec', 'name': 'Load', 'artists': {'items': [{'uri': 'spotify:artist:2ye2Wgw4gimLv2eAKyk1NB', 'profile': {'name': 'Metallica'}}]}, 'coverArt': {'sources': [{'url': 'https://i.scdn.co/image/ab67616d00001e020a3eb7ef6df5732fc6fa77ec', 'width': 300, 'height': 300}, {'url': 'https://i.scdn.co/image/ab67616d000048510a3eb7ef6df5732fc6fa77ec', 'width': 64, 'height': 64}, {'url': 'https://i.scdn.co/image/ab67616d0000b2730a3eb7ef6df5732fc6fa77ec', 'width': 640, 'height': 640}]}, 'date': {'year': 1996}}}, {'data': {'uri': 'spotify:album:3kVRcb2fuCcKcqltzczxRP', 'name': 'S&M', 'artists': {'items': [{'uri': 'spotify:artist:2ye2Wgw4gimLv2eAKyk1NB', 'profile': {'name': 'Metallica'}}]}, 'coverArt': {'sources': [{'url': 'https://i.scdn.co/image/ab67616d00001e026b275d72474c508ce2b405a4', 'width': 300, 'height': 300}, {'url': 'https://i.scdn.co/image/ab67616d000048516b275d72474c508ce2b405a4', 'width': 64, 'height': 64}, {'url': 'https://i.scdn.co/image/ab67616d0000b2736b275d72474c508ce2b405a4', 'width': 640, 'height': 640}]}, 'date': {'year': 1999}}}, {'data': {'uri': 'spotify:album:5b7HQ04lPT7eGJQ7fmVsjC', 'name': 'Garage, Inc.', 'artists': {'items': [{'uri': 'spotify:artist:2ye2Wgw4gimLv2eAKyk1NB', 'profile': {'name': 'Metallica'}}]}, 'coverArt': {'sources': [{'url': 'https://i.scdn.co/image/ab67616d00001e027e1f85f69323acac962516c4', 'width': 300, 'height': 300}, {'url': 'https://i.scdn.co/image/ab67616d000048517e1f85f69323acac962516c4', 'width': 64, 'height': 64}, {'url': 'https://i.scdn.co/image/ab67616d0000b2737e1f85f69323acac962516c4', 'width': 640, 'height': 640}]}, 'date': {'year': 1998}}}, {'data': {'uri': 'spotify:album:70uejEPPRPSLBrTRdfghP5', 'name': '72 Seasons', 'artists': {'items': [{'uri': 'spotify:artist:2ye2Wgw4gimLv2eAKyk1NB', 'profile': {'name': 'Metallica'}}]}, 'coverArt': {'sources': [{'url': 'https://i.scdn.co/image/ab67616d00001e02e9c415cdc78d53b9b8627274', 'width': 300, 'height': 300}, {'url': 'https://i.scdn.co/image/ab67616d00004851e9c415cdc78d53b9b8627274', 'width': 64, 'height': 64}, {'url': 'https://i.scdn.co/image/ab67616d0000b273e9c415cdc78d53b9b8627274', 'width': 640, 'height': 640}]}, 'date': {'year': 2023}}}, {'data': {'uri': 'spotify:album:72grIwGP38Iy2S1jxt1Gjd', 'name': 'Metallica Through The Never (Music from the Motion Picture)', 'artists': {'items': [{'uri': 'spotify:artist:2ye2Wgw4gimLv2eAKyk1NB', 'profile': {'name': 'Metallica'}}]}, 'coverArt': {'sources': [{'url': 'https://i.scdn.co/image/ab67616d00001e02f1a501610a71d48c526c7ecd', 'width': 300, 'height': 300}, {'url': 'https://i.scdn.co/image/ab67616d00004851f1a501610a71d48c526c7ecd', 'width': 64, 'height': 64}, {'url': 'https://i.scdn.co/image/ab67616d0000b273f1a501610a71d48c526c7ecd', 'width': 640, 'height': 640}]}, 'date': {'year': 2013}}}, {'data': {'uri': 'spotify:album:0lf5ceMub7KQhLfGxCdM06', 'name': 'Death Magnetic', 'artists': {'items': [{'uri': 'spotify:artist:2ye2Wgw4gimLv2eAKyk1NB', 'profile': {'name': 'Metallica'}}]}, 'coverArt': {'sources': [{'url': 'https://i.scdn.co/image/ab67616d00001e02dfe44d577f07e08564ec73ed', 'width': 300, 'height': 300}, {'url': 'https://i.scdn.co/image/ab67616d00004851dfe44d577f07e08564ec73ed', 'width': 64, 'height': 64}, {'url': 'https://i.scdn.co/image/ab67616d0000b273dfe44d577f07e08564ec73ed', 'width': 640, 'height': 640}]}, 'date': {'year': 2008}}}, {'data': {'uri': 'spotify:album:73pUIoNvoi8m51Vg97CAKX', 'name': 'The Metallica Blacklist', 'artists': {'items': [{'uri': 'spotify:artist:2ye2Wgw4gimLv2eAKyk1NB', 'profile': {'name': 'Metallica'}}]}, 'coverArt': {'sources': [{'url': 'https://i.scdn.co/image/ab67616d00001e02db84e728d3237d517c40a1e5', 'width': 300, 'height': 300}, {'url': 'https://i.scdn.co/image/ab67616d00004851db84e728d3237d517c40a1e5', 'width': 64, 'height': 64}, {'url': 'https://i.scdn.co/image/ab67616d0000b273db84e728d3237d517c40a1e5', 'width': 640, 'height': 640}]}, 'date': {'year': 2021}}}, {'data': {'uri': 'spotify:album:4kizef5du9TgAGfNhWbKmt', 'name': 'Hardwired…To Self-Destruct', 'artists': {'items': [{'uri': 'spotify:artist:2ye2Wgw4gimLv2eAKyk1NB', 'profile': {'name': 'Metallica'}}]}, 'coverArt': {'sources': [{'url': 'https://i.scdn.co/image/ab67616d00001e02f2651ad6c2b8c509055f410e', 'width': 300, 'height': 300}, {'url': 'https://i.scdn.co/image/ab67616d00004851f2651ad6c2b8c509055f410e', 'width': 64, 'height': 64}, {'url': 'https://i.scdn.co/image/ab67616d0000b273f2651ad6c2b8c509055f410e', 'width': 640, 'height': 640}]}, 'date': {'year': 2016}}}, {'data': {'uri': 'spotify:album:2ob2V3qqYLyKUrQB5YNm4C', 'name': 'The $5.98 EP - Garage Days Re-Revisited (Remastered)', 'artists': {'items': [{'uri': 'spotify:artist:2ye2Wgw4gimLv2eAKyk1NB', 'profile': {'name': 'Metallica'}}]}, 'coverArt': {'sources': [{'url': 'https://i.scdn.co/image/ab67616d00001e02c1f4116170c2af576a21b4d5', 'width': 300, 'height': 300}, {'url': 'https://i.scdn.co/image/ab67616d00004851c1f4116170c2af576a21b4d5', 'width': 64, 'height': 64}, {'url': 'https://i.scdn.co/image/ab67616d0000b273c1f4116170c2af576a21b4d5', 'width': 640, 'height': 640}]}, 'date': {'year': 1987}}}, {'data': {'uri': 'spotify:album:551cXcvCe9uuF0uNgoI9CC', 'name': 'metallica', 'artists': {'items': [{'uri': 'spotify:artist:5QMXdarD6sqSoapAEX51x8', 'profile': {'name': 'Isak Roen'}}, {'uri': 'spotify:artist:1im6s75yGOk778UckqgkvH', 'profile': {'name': '730hahah'}}]}, 'coverArt': {'sources': [{'url': 'https://i.scdn.co/image/ab67616d00001e025405c052a29e4c7f47cb5dc5', 'width': 300, 'height': 300}, {'url': 'https://i.scdn.co/image/ab67616d000048515405c052a29e4c7f47cb5dc5', 'width': 64, 'height': 64}, {'url': 'https://i.scdn.co/image/ab67616d0000b2735405c052a29e4c7f47cb5dc5', 'width': 640, 'height': 640}]}, 'date': {'year': 2023}}}, {'data': {'uri': 'spotify:album:730QG4fWJbWMfqyylpFV03', 'name': 'Metallica Remixes', 'artists': {'items': [{'uri': 'spotify:artist:6Jqut9RUUIl7KksiQ6omuU', 'profile': {'name': 'Heretic Klick'}}]}, 'coverArt': {'sources': [{'url': 'https://i.scdn.co/image/ab67616d00001e023dea4270d1931bd111498060', 'width': 300, 'height': 300}, {'url': 'https://i.scdn.co/image/ab67616d000048513dea4270d1931bd111498060', 'width': 64, 'height': 64}, {'url': 'https://i.scdn.co/image/ab67616d0000b2733dea4270d1931bd111498060', 'width': 640, 'height': 640}]}, 'date': {'year': 2020}}}, {'data': {'uri': 'spotify:album:0VIdUzsOKA5u24DbTOwAv9', 'name': 'Lullaby Renditions of Metallica', 'artists': {'items': [{'uri': 'spotify:artist:5bHjVR4F2Tfq4Ha6x7K6wU', 'profile': {'name': 'Rockabye Baby!'}}]}, 'coverArt': {'sources': [{'url': 'https://i.scdn.co/image/ab67616d00001e02a7086da595774f8a865087f3', 'width': 300, 'height': 300}, {'url': 'https://i.scdn.co/image/ab67616d00004851a7086da595774f8a865087f3', 'width': 64, 'height': 64}, {'url': 'https://i.scdn.co/image/ab67616d0000b273a7086da595774f8a865087f3', 'width': 640, 'height': 640}]}, 'date': {'year': 2006}}}, {'data': {'uri': 'spotify:album:4B39NbPyX3fOoF5aAZhRe3', 'name': 'Metallica', 'artists': {'items': [{'uri': 'spotify:artist:6LFqz6D1rL2c1bl6UuwiqT', 'profile': {'name': 'Cloutchaser'}}]}, 'coverArt': {'sources': [{'url': 'https://i.scdn.co/image/ab67616d00001e02ae40e6ea26dcffdc93fc19c4', 'width': 300, 'height': 300}, {'url': 'https://i.scdn.co/image/ab67616d00004851ae40e6ea26dcffdc93fc19c4', 'width': 64, 'height': 64}, {'url': 'https://i.scdn.co/image/ab67616d0000b273ae40e6ea26dcffdc93fc19c4', 'width': 640, 'height': 640}]}, 'date': {'year': 2023}}}, {'data': {'uri': 'spotify:album:4ljK2LVKvEPd5xPgUJn0Bs', 'name': 'St. Anger', 'artists': {'items': [{'uri': 'spotify:artist:2ye2Wgw4gimLv2eAKyk1NB', 'profile': {'name': 'Metallica'}}]}, 'coverArt': {'sources': [{'url': 'https://i.scdn.co/image/ab67616d00001e022fe08610316f3e5ebaa06d68', 'width': 300, 'height': 300}, {'url': 'https://i.scdn.co/image/ab67616d000048512fe08610316f3e5ebaa06d68', 'width': 64, 'height': 64}, {'url': 'https://i.scdn.co/image/ab67616d0000b2732fe08610316f3e5ebaa06d68', 'width': 640, 'height': 640}]}, 'date': {'year': 2003}}}, {'data': {'uri': 'spotify:album:1UP1pzmPXPI0bJRutFkuTj', 'name': 'Metallica', 'artists': {'items': [{'uri': 'spotify:artist:5lEW32yGeOUAxc7YVVpOBK', 'profile': {'name': '♡PatotectiveXOXO♡'}}]}, 'coverArt': {'sources': [{'url': 'https://i.scdn.co/image/ab67616d00001e02093170ef25ead1cfe3de0aa6', 'width': 300, 'height': 300}, {'url': 'https://i.scdn.co/image/ab67616d00004851093170ef25ead1cfe3de0aa6', 'width': 64, 'height': 64}, {'url': 'https://i.scdn.co/image/ab67616d0000b273093170ef25ead1cfe3de0aa6', 'width': 640, 'height': 640}]}, 'date': {'year': 2023}}}, {'data': {'uri': 'spotify:album:1TKCBDHIWLiqjWTxomqniD', 'name': 'Hardwired…To Self-Destruct (Deluxe)', 'artists': {'items': [{'uri': 'spotify:artist:2ye2Wgw4gimLv2eAKyk1NB', 'profile': {'name': 'Metallica'}}]}, 'coverArt': {'sources': [{'url': 'https://i.scdn.co/image/ab67616d00001e02d534cd7750f657bc2e361666', 'width': 300, 'height': 300}, {'url': 'https://i.scdn.co/image/ab67616d00004851d534cd7750f657bc2e361666', 'width': 64, 'height': 64}, {'url': 'https://i.scdn.co/image/ab67616d0000b273d534cd7750f657bc2e361666', 'width': 640, 'height': 640}]}, 'date': {'year': 2016}}}, {'data': {'uri': 'spotify:album:6N6RaXOKqxFZzVqkUEfrcz', 'name': 'Metallica', 'artists': {'items': [{'uri': 'spotify:artist:08ZqXO40nMrhBoGma4kls2', 'profile': {'name': 'SyKo'}}]}, 'coverArt': {'sources': [{'url': 'https://i.scdn.co/image/ab67616d00001e02cfc1af2416d21d50c6905051', 'width': 300, 'height': 300}, {'url': 'https://i.scdn.co/image/ab67616d00004851cfc1af2416d21d50c6905051', 'width': 64, 'height': 64}, {'url': 'https://i.scdn.co/image/ab67616d0000b273cfc1af2416d21d50c6905051', 'width': 640, 'height': 640}]}, 'date': {'year': 2019}}}, {'data': {'uri': 'spotify:album:28yHV3Gdg30AiB8h8em1eW', 'name': 'Appetite For Destruction', 'artists': {'items': [{'uri': 'spotify:artist:3qm84nBOXUEQ2vnTfUTTFC', 'profile': {'name': \"Guns N' Roses\"}}]}, 'coverArt': {'sources': [{'url': 'https://i.scdn.co/image/ab67616d00001e0221ebf49b3292c3f0f575f0f5', 'width': 300, 'height': 300}, {'url': 'https://i.scdn.co/image/ab67616d0000485121ebf49b3292c3f0f575f0f5', 'width': 64, 'height': 64}, {'url': 'https://i.scdn.co/image/ab67616d0000b27321ebf49b3292c3f0f575f0f5', 'width': 640, 'height': 640}]}, 'date': {'year': 1987}}}, {'data': {'uri': 'spotify:album:1k59BZ0UA6HT4UkuOYPppf', 'name': 'Metallica', 'artists': {'items': [{'uri': 'spotify:artist:4rQiYfSqmicW55TlG6vjK7', 'profile': {'name': 'Yubik'}}]}, 'coverArt': {'sources': [{'url': 'https://i.scdn.co/image/ab67616d00001e0206ce1ebdbc05630e1729ef39', 'width': 300, 'height': 300}, {'url': 'https://i.scdn.co/image/ab67616d0000485106ce1ebdbc05630e1729ef39', 'width': 64, 'height': 64}, {'url': 'https://i.scdn.co/image/ab67616d0000b27306ce1ebdbc05630e1729ef39', 'width': 640, 'height': 640}]}, 'date': {'year': 2018}}}, {'data': {'uri': 'spotify:album:1iIeZeusb8PtfVRvmCXfUk', 'name': 'Metallica Para Bebes', 'artists': {'items': [{'uri': 'spotify:artist:7HBA3bLuJTLRvjK8NX9ZSy', 'profile': {'name': 'Sweet Little Band'}}]}, 'coverArt': {'sources': [{'url': 'https://i.scdn.co/image/ab67616d00001e02093f25395fe2b2bdbd6522a1', 'width': 300, 'height': 300}, {'url': 'https://i.scdn.co/image/ab67616d00004851093f25395fe2b2bdbd6522a1', 'width': 64, 'height': 64}, {'url': 'https://i.scdn.co/image/ab67616d0000b273093f25395fe2b2bdbd6522a1', 'width': 640, 'height': 640}]}, 'date': {'year': 2012}}}, {'data': {'uri': 'spotify:album:7GttoSWxEi5lZvIWeSrh6n', 'name': \"Kill 'Em All (Deluxe Remaster)\", 'artists': {'items': [{'uri': 'spotify:artist:2ye2Wgw4gimLv2eAKyk1NB', 'profile': {'name': 'Metallica'}}]}, 'coverArt': {'sources': [{'url': 'https://i.scdn.co/image/ab67616d00001e02a4c3675649cce210651d150d', 'width': 300, 'height': 300}, {'url': 'https://i.scdn.co/image/ab67616d00004851a4c3675649cce210651d150d', 'width': 64, 'height': 64}, {'url': 'https://i.scdn.co/image/ab67616d0000b273a4c3675649cce210651d150d', 'width': 640, 'height': 640}]}, 'date': {'year': 1983}}}, {'data': {'uri': 'spotify:album:6h7kCKrs6opNEZGBwJsm4m', 'name': 'Metallica', 'artists': {'items': [{'uri': 'spotify:artist:4F3EbOsNmKjI6DMtJ96DfD', 'profile': {'name': 'Iggy Jones'}}]}, 'coverArt': {'sources': [{'url': 'https://i.scdn.co/image/ab67616d00001e026aa42d45fe528f97e064d55e', 'width': 300, 'height': 300}, {'url': 'https://i.scdn.co/image/ab67616d000048516aa42d45fe528f97e064d55e', 'width': 64, 'height': 64}, {'url': 'https://i.scdn.co/image/ab67616d0000b2736aa42d45fe528f97e064d55e', 'width': 640, 'height': 640}]}, 'date': {'year': 2022}}}, {'data': {'uri': 'spotify:album:2CCz7Dc1OWgJvDYRteSFih', 'name': 'Plays Metallica by Four Cellos (2016 Remastered Version)', 'artists': {'items': [{'uri': 'spotify:artist:4Lm0pUvmisUHMdoky5ch2I', 'profile': {'name': 'Apocalyptica'}}]}, 'coverArt': {'sources': [{'url': 'https://i.scdn.co/image/ab67616d00001e02a093b759808f88f5d102f5bd', 'width': 300, 'height': 300}, {'url': 'https://i.scdn.co/image/ab67616d00004851a093b759808f88f5d102f5bd', 'width': 64, 'height': 64}, {'url': 'https://i.scdn.co/image/ab67616d0000b273a093b759808f88f5d102f5bd', 'width': 640, 'height': 640}]}, 'date': {'year': 2016}}}, {'data': {'uri': 'spotify:album:6r7LZXAVueS5DqdrvXJJK7', 'name': 'Paranoid (Remaster)', 'artists': {'items': [{'uri': 'spotify:artist:5M52tdBnJaKSvOpJGz8mfZ', 'profile': {'name': 'Black Sabbath'}}]}, 'coverArt': {'sources': [{'url': 'https://i.scdn.co/image/ab67616d00001e02d5fccf9ce08b6a1e7d12a222', 'width': 300, 'height': 300}, {'url': 'https://i.scdn.co/image/ab67616d00004851d5fccf9ce08b6a1e7d12a222', 'width': 64, 'height': 64}, {'url': 'https://i.scdn.co/image/ab67616d0000b273d5fccf9ce08b6a1e7d12a222', 'width': 640, 'height': 640}]}, 'date': {'year': 1970}}}, {'data': {'uri': 'spotify:album:5I1Sd3WmIp7VeXraH1p4QE', 'name': 'Metallica', 'artists': {'items': [{'uri': 'spotify:artist:7FvUw5QIl3Xqc66VTBWyNU', 'profile': {'name': 'Lil Willy Shawty'}}]}, 'coverArt': {'sources': [{'url': 'https://i.scdn.co/image/ab67616d00001e0291f406559c45f45b5d13e08f', 'width': 300, 'height': 300}, {'url': 'https://i.scdn.co/image/ab67616d0000485191f406559c45f45b5d13e08f', 'width': 64, 'height': 64}, {'url': 'https://i.scdn.co/image/ab67616d0000b27391f406559c45f45b5d13e08f', 'width': 640, 'height': 640}]}, 'date': {'year': 2022}}}, {'data': {'uri': 'spotify:album:2BbGapJK5UqztIrRBJQicL', 'name': 'Metallica Lullabies', 'artists': {'items': [{'uri': 'spotify:artist:2tNx7fxze4AxZZw8BhsKZm', 'profile': {'name': \"Lar' Bear's Lullabies\"}}, {'uri': 'spotify:artist:6ltSOxDlvbOiogtj7QUw2x', 'profile': {'name': 'BabyGoodnight'}}]}, 'coverArt': {'sources': [{'url': 'https://i.scdn.co/image/ab67616d00001e0288431d84005531859d4d59fa', 'width': 300, 'height': 300}, {'url': 'https://i.scdn.co/image/ab67616d0000485188431d84005531859d4d59fa', 'width': 64, 'height': 64}, {'url': 'https://i.scdn.co/image/ab67616d0000b27388431d84005531859d4d59fa', 'width': 640, 'height': 640}]}, 'date': {'year': 2023}}}, {'data': {'uri': 'spotify:album:4iBN00FZaKlaXVYfxV7bBQ', 'name': 'Live S**t: Binge & Purge', 'artists': {'items': [{'uri': 'spotify:artist:2ye2Wgw4gimLv2eAKyk1NB', 'profile': {'name': 'Metallica'}}]}, 'coverArt': {'sources': [{'url': 'https://i.scdn.co/image/ab67616d00001e02c99dbd20668c97579417595f', 'width': 300, 'height': 300}, {'url': 'https://i.scdn.co/image/ab67616d00004851c99dbd20668c97579417595f', 'width': 64, 'height': 64}, {'url': 'https://i.scdn.co/image/ab67616d0000b273c99dbd20668c97579417595f', 'width': 640, 'height': 640}]}, 'date': {'year': 1993}}}, {'data': {'uri': 'spotify:album:2N57UygOfQhqKxHnadkdJn', 'name': 'Metallica', 'artists': {'items': [{'uri': 'spotify:artist:5eEk56xUd18qnOE9R0iRYN', 'profile': {'name': 'Young Darhi'}}]}, 'coverArt': {'sources': [{'url': 'https://i.scdn.co/image/ab67616d00001e029c0ce215dfcb847dea01125a', 'width': 300, 'height': 300}, {'url': 'https://i.scdn.co/image/ab67616d000048519c0ce215dfcb847dea01125a', 'width': 64, 'height': 64}, {'url': 'https://i.scdn.co/image/ab67616d0000b2739c0ce215dfcb847dea01125a', 'width': 640, 'height': 640}]}, 'date': {'year': 2022}}}, {'data': {'uri': 'spotify:album:3Z92dVshNDnwe1ScSgDBmA', 'name': 'Metallica meets Billie Eilish', 'artists': {'items': [{'uri': 'spotify:artist:5bDwUAEz0SxkPUzqg97850', 'profile': {'name': 'Manuel Gardner Fernandes'}}]}, 'coverArt': {'sources': [{'url': 'https://i.scdn.co/image/ab67616d00001e0282fa030ca6c672e3133d1985', 'width': 300, 'height': 300}, {'url': 'https://i.scdn.co/image/ab67616d0000485182fa030ca6c672e3133d1985', 'width': 64, 'height': 64}, {'url': 'https://i.scdn.co/image/ab67616d0000b27382fa030ca6c672e3133d1985', 'width': 640, 'height': 640}]}, 'date': {'year': 2023}}}, {'data': {'uri': 'spotify:album:58NXIEYqmq5dQHg9nV9duM', 'name': 'Dirt (2022 Remaster)', 'artists': {'items': [{'uri': 'spotify:artist:64tNsm6TnZe2zpcMVMOoHL', 'profile': {'name': 'Alice In Chains'}}]}, 'coverArt': {'sources': [{'url': 'https://i.scdn.co/image/ab67616d00001e021cd131e5e9ad887ad8c1ecb7', 'width': 300, 'height': 300}, {'url': 'https://i.scdn.co/image/ab67616d000048511cd131e5e9ad887ad8c1ecb7', 'width': 64, 'height': 64}, {'url': 'https://i.scdn.co/image/ab67616d0000b2731cd131e5e9ad887ad8c1ecb7', 'width': 640, 'height': 640}]}, 'date': {'year': 1992}}}, {'data': {'uri': 'spotify:album:18BfMDmjv4ZshhacnS91t5', 'name': 'Metallica', 'artists': {'items': [{'uri': 'spotify:artist:64C1h8ZS4TwwOq6vTh5bIU', 'profile': {'name': 'Young Gho$t'}}, {'uri': 'spotify:artist:6sihlFOxBuZ8NsT0suXocj', 'profile': {'name': 'Chronic Shnxman'}}]}, 'coverArt': {'sources': [{'url': 'https://i.scdn.co/image/ab67616d00001e02f676975f80d54770842df196', 'width': 300, 'height': 300}, {'url': 'https://i.scdn.co/image/ab67616d00004851f676975f80d54770842df196', 'width': 64, 'height': 64}, {'url': 'https://i.scdn.co/image/ab67616d0000b273f676975f80d54770842df196', 'width': 640, 'height': 640}]}, 'date': {'year': 2017}}}, {'data': {'uri': 'spotify:album:6As5aOEQjfxLIChIB3fQRD', 'name': 'Toys In The Attic', 'artists': {'items': [{'uri': 'spotify:artist:7Ey4PD4MYsKc5I2dolUwbH', 'profile': {'name': 'Aerosmith'}}]}, 'coverArt': {'sources': [{'url': 'https://i.scdn.co/image/ab67616d00001e028cffbbb7fe8645a486a85ea9', 'width': 300, 'height': 300}, {'url': 'https://i.scdn.co/image/ab67616d000048518cffbbb7fe8645a486a85ea9', 'width': 64, 'height': 64}, {'url': 'https://i.scdn.co/image/ab67616d0000b2738cffbbb7fe8645a486a85ea9', 'width': 640, 'height': 640}]}, 'date': {'year': 1975}}}, {'data': {'uri': 'spotify:album:77rJfSC6zR4goHTzL6HD0k', 'name': 'Metallica', 'artists': {'items': [{'uri': 'spotify:artist:36VtCDsXjULzGmoAUsfnIS', 'profile': {'name': 'witted'}}]}, 'coverArt': {'sources': [{'url': 'https://i.scdn.co/image/ab67616d00001e0282b948cf59591c9046ec7f28', 'width': 300, 'height': 300}, {'url': 'https://i.scdn.co/image/ab67616d0000485182b948cf59591c9046ec7f28', 'width': 64, 'height': 64}, {'url': 'https://i.scdn.co/image/ab67616d0000b27382b948cf59591c9046ec7f28', 'width': 640, 'height': 640}]}, 'date': {'year': 2023}}}, {'data': {'uri': 'spotify:album:0X1eis4azzVcl6NhgMkOdU', 'name': 'Lullaby Versions of Metallica', 'artists': {'items': [{'uri': 'spotify:artist:3mGCLimuzOdod4Lnegny4d', 'profile': {'name': 'Twinkle Twinkle Little Rock Star'}}]}, 'coverArt': {'sources': [{'url': 'https://i.scdn.co/image/ab67616d00001e02d7dd64b110d1d12cff2e1e67', 'width': 300, 'height': 300}, {'url': 'https://i.scdn.co/image/ab67616d00004851d7dd64b110d1d12cff2e1e67', 'width': 64, 'height': 64}, {'url': 'https://i.scdn.co/image/ab67616d0000b273d7dd64b110d1d12cff2e1e67', 'width': 640, 'height': 640}]}, 'date': {'year': 2011}}}, {'data': {'uri': 'spotify:album:10v912xgTZbjAtYfyKWJCS', 'name': 'Highway to Hell', 'artists': {'items': [{'uri': 'spotify:artist:711MCceyCBcFnzjGY4Q7Un', 'profile': {'name': 'AC/DC'}}]}, 'coverArt': {'sources': [{'url': 'https://i.scdn.co/image/ab67616d00001e0251c02a77d09dfcd53c8676d0', 'width': 300, 'height': 300}, {'url': 'https://i.scdn.co/image/ab67616d0000485151c02a77d09dfcd53c8676d0', 'width': 64, 'height': 64}, {'url': 'https://i.scdn.co/image/ab67616d0000b27351c02a77d09dfcd53c8676d0', 'width': 640, 'height': 640}]}, 'date': {'year': 1979}}}, {'data': {'uri': 'spotify:album:6KW2nEbg1hIUt7rU5aQmQR', 'name': 'Metallica (Remix)', 'artists': {'items': [{'uri': 'spotify:artist:2El8Mftwob565WZEnEALDD', 'profile': {'name': 'AMF'}}]}, 'coverArt': {'sources': [{'url': 'https://i.scdn.co/image/ab67616d00001e02c957c211047d5387c4357fef', 'width': 300, 'height': 300}, {'url': 'https://i.scdn.co/image/ab67616d00004851c957c211047d5387c4357fef', 'width': 64, 'height': 64}, {'url': 'https://i.scdn.co/image/ab67616d0000b273c957c211047d5387c4357fef', 'width': 640, 'height': 640}]}, 'date': {'year': 2022}}}, {'data': {'uri': 'spotify:album:4vxkHVyS6D66Rwt0mpz0cS', 'name': 'S&M2', 'artists': {'items': [{'uri': 'spotify:artist:2ye2Wgw4gimLv2eAKyk1NB', 'profile': {'name': 'Metallica'}}, {'uri': 'spotify:artist:1qHStDLIc8uV7hvTG6FGRJ', 'profile': {'name': 'San Francisco Symphony'}}]}, 'coverArt': {'sources': [{'url': 'https://i.scdn.co/image/ab67616d00001e02d1d62648e6c02c252a7c9009', 'width': 300, 'height': 300}, {'url': 'https://i.scdn.co/image/ab67616d00004851d1d62648e6c02c252a7c9009', 'width': 64, 'height': 64}, {'url': 'https://i.scdn.co/image/ab67616d0000b273d1d62648e6c02c252a7c9009', 'width': 640, 'height': 640}]}, 'date': {'year': 2020}}}, {'data': {'uri': 'spotify:album:3REUXdj5OPKhuDTrTtCBU0', 'name': '1984 (Remastered)', 'artists': {'items': [{'uri': 'spotify:artist:2cnMpRsOVqtPMfq7YiFE6K', 'profile': {'name': 'Van Halen'}}]}, 'coverArt': {'sources': [{'url': 'https://i.scdn.co/image/ab67616d00001e02b414c63fb435b622238c15ed', 'width': 300, 'height': 300}, {'url': 'https://i.scdn.co/image/ab67616d00004851b414c63fb435b622238c15ed', 'width': 64, 'height': 64}, {'url': 'https://i.scdn.co/image/ab67616d0000b273b414c63fb435b622238c15ed', 'width': 640, 'height': 640}]}, 'date': {'year': 1984}}}, {'data': {'uri': 'spotify:album:7cG30BvSHkWnEQvhXKOY60', 'name': 'Metallica', 'artists': {'items': [{'uri': 'spotify:artist:03eGBvejCQnnNszfmqgRpg', 'profile': {'name': 'Numby'}}]}, 'coverArt': {'sources': [{'url': 'https://i.scdn.co/image/ab67616d00001e02aa43c53e3c25c2dbe64186e6', 'width': 300, 'height': 300}, {'url': 'https://i.scdn.co/image/ab67616d00004851aa43c53e3c25c2dbe64186e6', 'width': 64, 'height': 64}, {'url': 'https://i.scdn.co/image/ab67616d0000b273aa43c53e3c25c2dbe64186e6', 'width': 640, 'height': 640}]}, 'date': {'year': 2021}}}]\n"
     ]
    }
   ],
   "source": [
    "# Fetch data from Spotify API\n",
    "url = \"https://spotify23.p.rapidapi.com/search/\"\n",
    "\n",
    "querystring = {\"q\":\"metallica\", \"type\": \"album\", \"limit\": \"50\"}\n",
    "\n",
    "headers = {\n",
    "\t\"x-rapidapi-key\": \"31889f1ddfmsh96d42e48a3f8968p1484b5jsn5f8010587ad9\",\n",
    "\t\"x-rapidapi-host\": \"spotify23.p.rapidapi.com\"\n",
    "}\n",
    "\n",
    "response = requests.get(url, headers=headers, params=querystring)\n",
    "\n",
    "# Extract albums from the JSON response\n",
    "results = response.json().get('albums', {}).get('items', [])\n",
    "print(results)"
   ]
  },
  {
   "cell_type": "code",
   "execution_count": 3,
   "id": "cb6b1ebb-d7e9-4bc6-8401-a504d6bd547c",
   "metadata": {},
   "outputs": [],
   "source": [
    "# Create documents\n",
    "all_albums = []\n",
    "titles = []\n",
    "for result in results:\n",
    "    release_year = result['data'].get('date', {}).get('year', '')\n",
    "    album = {}\n",
    "    if release_year:\n",
    "        album['artist'] = 'Metallica'\n",
    "        album['album'] = result['data'].get('name', '')\n",
    "        album['year'] = release_year\n",
    "         \n",
    "        title = album['album']\n",
    "        if title not in titles:\n",
    "            titles.append(title)\n",
    "            all_albums.append(album)"
   ]
  },
  {
   "cell_type": "code",
   "execution_count": 4,
   "id": "3f8aeb04-0400-4b34-b879-542cc762bb5d",
   "metadata": {},
   "outputs": [],
   "source": [
    "# Function to filter albums by year\n",
    "def filter_albums_by_year(all_albums, year_filter):\n",
    "    filtered_documents = [album for album in all_albums if int(album['year']) > year_filter]\n",
    "    \n",
    "    if not filtered_documents:\n",
    "        print(\"No albums found after the specified year.\")\n",
    "    else:\n",
    "        filtered_documents_total = len(filtered_documents)\n",
    "        print(f'It was found {filtered_documents_total} albums:')\n",
    "        for album in filtered_documents:\n",
    "            print(f\" - {album['year']}: {album['album']}.\")\n",
    "            "
   ]
  },
  {
   "cell_type": "code",
   "execution_count": 5,
   "id": "3b192a86-e224-4938-8460-c853732c5464",
   "metadata": {},
   "outputs": [
    {
     "name": "stdout",
     "output_type": "stream",
     "text": [
      "It was found 17 albums:\n",
      " - 2024: Plays Metallica, Vol. 2.\n",
      " - 2023: 72 Seasons.\n",
      " - 2013: Metallica Through The Never (Music from the Motion Picture).\n",
      " - 2008: Death Magnetic.\n",
      " - 2021: The Metallica Blacklist.\n",
      " - 2016: Hardwired…To Self-Destruct.\n",
      " - 2023: metallica.\n",
      " - 2020: Metallica Remixes.\n",
      " - 2023: Metallica.\n",
      " - 2016: Hardwired…To Self-Destruct (Deluxe).\n",
      " - 2012: Metallica Para Bebes.\n",
      " - 2016: Plays Metallica by Four Cellos (2016 Remastered Version).\n",
      " - 2023: Metallica Lullabies.\n",
      " - 2023: Metallica meets Billie Eilish.\n",
      " - 2011: Lullaby Versions of Metallica.\n",
      " - 2022: Metallica (Remix).\n",
      " - 2020: S&M2.\n"
     ]
    }
   ],
   "source": [
    "year_filter = 2007        \n",
    "filter_albums_by_year(all_albums, year_filter)"
   ]
  },
  {
   "cell_type": "code",
   "execution_count": null,
   "id": "61e02532-1e89-4129-898d-6d06def0d96f",
   "metadata": {},
   "outputs": [],
   "source": []
  }
 ],
 "metadata": {
  "kernelspec": {
   "display_name": "Python 3 (ipykernel)",
   "language": "python",
   "name": "python3"
  },
  "language_info": {
   "codemirror_mode": {
    "name": "ipython",
    "version": 3
   },
   "file_extension": ".py",
   "mimetype": "text/x-python",
   "name": "python",
   "nbconvert_exporter": "python",
   "pygments_lexer": "ipython3",
   "version": "3.11.9"
  }
 },
 "nbformat": 4,
 "nbformat_minor": 5
}
