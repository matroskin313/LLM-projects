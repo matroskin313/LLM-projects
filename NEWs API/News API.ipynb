{
 "cells": [
  {
   "cell_type": "code",
   "execution_count": 1,
   "id": "dfbb2e50-9e74-45ac-8b52-354e45397ac7",
   "metadata": {},
   "outputs": [],
   "source": [
    "from langchain_community.document_loaders import DirectoryLoader\n",
    "from langchain.text_splitter import RecursiveCharacterTextSplitter\n",
    "from langchain_community.vectorstores import Chroma\n",
    "from langchain.prompts import ChatPromptTemplate\n",
    "from langchain_openai import OpenAIEmbeddings\n",
    "from langchain_openai import ChatOpenAI\n",
    "from langchain.schema import Document\n",
    "from dotenv import load_dotenv\n",
    "import requests\n",
    "import openai \n",
    "import shutil\n",
    "import os\n",
    "\n",
    "os.environ['OPENAI_API_KEY'] = 'key'\n",
    "CHROMA_PATH = \"chroma_news\""
   ]
  },
  {
   "cell_type": "code",
   "execution_count": 2,
   "id": "066ed8bd-6aa3-426d-ba5c-316dcbefc919",
   "metadata": {},
   "outputs": [],
   "source": [
    "api_key = 'key'\n",
    "api_url = f'https://newsapi.org/v2/everything?q=technology&sortBy=publishedAt&apiKey={api_key}'\n",
    "\n",
    "def fetch_news_articles(api_url):\n",
    "    response = requests.get(api_url)\n",
    "    response.raise_for_status()\n",
    "    return response.json()['articles']\n",
    "\n",
    "articles = fetch_news_articles(api_url)"
   ]
  },
  {
   "cell_type": "code",
   "execution_count": 3,
   "id": "a6f9acde-a703-4e32-9f1b-020c3d2b77a9",
   "metadata": {},
   "outputs": [
    {
     "data": {
      "text/plain": [
       "160"
      ]
     },
     "execution_count": 3,
     "metadata": {},
     "output_type": "execute_result"
    }
   ],
   "source": [
    "len(articles[15]['description'])"
   ]
  },
  {
   "cell_type": "code",
   "execution_count": 4,
   "id": "12e87a81-584c-48a6-af44-6a1f3a907a8c",
   "metadata": {},
   "outputs": [],
   "source": [
    "documents = [Document(page_content=article['content'], metadata={'source': article['url'], 'title': article['title']}) for article in articles if article['content']]\n"
   ]
  },
  {
   "cell_type": "code",
   "execution_count": 5,
   "id": "3c1df950-93be-4cc5-83ef-76668e2671d1",
   "metadata": {},
   "outputs": [
    {
     "name": "stdout",
     "output_type": "stream",
     "text": [
      "Split 100 documents into 199 chunks.\n"
     ]
    }
   ],
   "source": [
    "from langchain.text_splitter import RecursiveCharacterTextSplitter\n",
    "text_splitter = RecursiveCharacterTextSplitter(\n",
    "    chunk_size=200,\n",
    "    chunk_overlap=50,\n",
    "    length_function=len,\n",
    "    add_start_index=True,\n",
    ")\n",
    "chunks = text_splitter.split_documents(documents)\n",
    "print(f'Split {len(documents)} documents into {len(chunks)} chunks.')"
   ]
  },
  {
   "cell_type": "code",
   "execution_count": 6,
   "id": "dc557781-8d0c-4d43-b7f0-1cd709834e23",
   "metadata": {},
   "outputs": [
    {
     "name": "stdout",
     "output_type": "stream",
     "text": [
      "railway safety and the data-related market, … [+4595 chars]\n",
      "{'source': 'https://www.marketscreener.com/quote/stock/RAIL-VISION-LTD-135899306/news/Rail-Vision-Successfully-Installs-AI-Driven-System-for-Class-1-USA-Operator-46939340/', 'title': 'Rail Vision Successfully Installs AI-Driven System for Class 1 USA Operator', 'start_index': 155}\n"
     ]
    }
   ],
   "source": [
    "document = chunks[10]\n",
    "print(document.page_content)\n",
    "print(document.metadata)"
   ]
  },
  {
   "cell_type": "code",
   "execution_count": 7,
   "id": "e928078d-12f4-4d09-9c8a-c24b7cf1f268",
   "metadata": {},
   "outputs": [
    {
     "name": "stdout",
     "output_type": "stream",
     "text": [
      "Saved 199 chunks to chroma_news.\n"
     ]
    }
   ],
   "source": [
    "# Create a new DB from the documents.\n",
    "embedding_function = OpenAIEmbeddings()\n",
    "db = Chroma.from_documents(\n",
    "    chunks, embedding_function, persist_directory=CHROMA_PATH\n",
    ")\n",
    "\n",
    "print(f\"Saved {len(chunks)} chunks to {CHROMA_PATH}.\")   "
   ]
  },
  {
   "cell_type": "code",
   "execution_count": 8,
   "id": "4b99c0b4-7af3-47c7-8ad7-0fa6f5dfa986",
   "metadata": {},
   "outputs": [],
   "source": [
    "# Prepare the DB.\n",
    "db = Chroma(persist_directory=CHROMA_PATH, embedding_function=embedding_function)"
   ]
  },
  {
   "cell_type": "code",
   "execution_count": 19,
   "id": "f52e92b4-da2d-4267-875d-d1043e8e3a80",
   "metadata": {},
   "outputs": [],
   "source": [
    "query_text = 'Are there news about any country?'"
   ]
  },
  {
   "cell_type": "code",
   "execution_count": 20,
   "id": "812b8711-87be-42b8-a8c3-63b1b54ce3ed",
   "metadata": {},
   "outputs": [],
   "source": [
    "# Search the DB.\n",
    "results = db.similarity_search_with_relevance_scores(query_text, k=3)"
   ]
  },
  {
   "cell_type": "code",
   "execution_count": 21,
   "id": "b303cdcd-70bf-44bd-a9e4-66832e149e5a",
   "metadata": {},
   "outputs": [],
   "source": [
    "if len(results) == 0 or results[0][1] < 0.7:\n",
    "    print(f'Unable to find matching results.')    "
   ]
  },
  {
   "cell_type": "code",
   "execution_count": 22,
   "id": "d3abb50f-e5d4-4114-ab7a-461451a41a03",
   "metadata": {},
   "outputs": [],
   "source": [
    "PROMPT_TEMPLATE = \"\"\"\n",
    "Answer the question based only on the following context:\n",
    "\n",
    "{context}\n",
    "\n",
    "---\n",
    "\n",
    "Answer the question based on the above context: {question}\n",
    "\"\"\""
   ]
  },
  {
   "cell_type": "code",
   "execution_count": 23,
   "id": "4e90d7d8-d519-4fa0-a93c-11bd41621f17",
   "metadata": {},
   "outputs": [
    {
     "name": "stdout",
     "output_type": "stream",
     "text": [
      "Human: \n",
      "Answer the question based only on the following context:\n",
      "\n",
      "News HomeMentioned in this article\n",
      "\n",
      "---\n",
      "\n",
      "News HomeMentioned in this article\n",
      "\n",
      "---\n",
      "\n",
      "Every morning, find a selection of analysts' recommendations covering North America and the UK. The list only includes companies that … [+236 chars]\n",
      "\n",
      "---\n",
      "\n",
      "Answer the question based on the above context: Are there news about any country?\n",
      "\n",
      "Response: content='Based on the context provided, there are news mentioned about North America and the UK.' response_metadata={'token_usage': {'completion_tokens': 17, 'prompt_tokens': 85, 'total_tokens': 102}, 'model_name': 'gpt-3.5-turbo', 'system_fingerprint': None, 'finish_reason': 'stop', 'logprobs': None} id='run-86f6cd42-218a-406a-8446-15a5c8cc5611-0' usage_metadata={'input_tokens': 85, 'output_tokens': 17, 'total_tokens': 102}\n",
      "Sources: ['https://www.investorsobserver.com/news/qm-pr/4589254380217143', 'https://www.investorsobserver.com/news/qm-pr/4589254380217143', 'https://www.marketscreener.com/news/latest/German-cartel-office-says-carmakers-cleared-to-negotiate-licence-purchases-46939203/']\n"
     ]
    }
   ],
   "source": [
    "context_text = \"\\n\\n---\\n\\n\".join([doc.page_content for doc, _score in results])\n",
    "prompt_template = ChatPromptTemplate.from_template(PROMPT_TEMPLATE)\n",
    "prompt = prompt_template.format(context=context_text, question=query_text)\n",
    "\n",
    "print(prompt)\n",
    "\n",
    "model = ChatOpenAI()\n",
    "response_text = model.invoke(prompt)\n",
    "\n",
    "sources = [doc.metadata.get(\"source\", None) for doc, _score in results]\n",
    "formatted_response = f\"Response: {response_text}\\nSources: {sources}\"\n",
    "print(formatted_response)\n"
   ]
  },
  {
   "cell_type": "code",
   "execution_count": null,
   "id": "3b192a86-e224-4938-8460-c853732c5464",
   "metadata": {},
   "outputs": [],
   "source": []
  }
 ],
 "metadata": {
  "kernelspec": {
   "display_name": "Python 3 (ipykernel)",
   "language": "python",
   "name": "python3"
  },
  "language_info": {
   "codemirror_mode": {
    "name": "ipython",
    "version": 3
   },
   "file_extension": ".py",
   "mimetype": "text/x-python",
   "name": "python",
   "nbconvert_exporter": "python",
   "pygments_lexer": "ipython3",
   "version": "3.11.9"
  }
 },
 "nbformat": 4,
 "nbformat_minor": 5
}
